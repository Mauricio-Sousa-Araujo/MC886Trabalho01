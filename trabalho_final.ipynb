{
  "nbformat": 4,
  "nbformat_minor": 0,
  "metadata": {
    "colab": {
      "name": "trabalho_final.ipynb",
      "provenance": [],
      "collapsed_sections": [],
      "toc_visible": true,
      "machine_shape": "hm",
      "include_colab_link": true
    },
    "kernelspec": {
      "name": "python3",
      "display_name": "Python 3"
    },
    "accelerator": "GPU"
  },
  "cells": [
    {
      "cell_type": "markdown",
      "metadata": {
        "id": "view-in-github",
        "colab_type": "text"
      },
      "source": [
        "<a href=\"https://colab.research.google.com/github/Mauricio-Sousa-Araujo/MC886Trabalho01/blob/master/trabalho_final.ipynb\" target=\"_parent\"><img src=\"https://colab.research.google.com/assets/colab-badge.svg\" alt=\"Open In Colab\"/></a>"
      ]
    },
    {
      "cell_type": "markdown",
      "metadata": {
        "id": "V8NQEM4-a4j7",
        "colab_type": "text"
      },
      "source": [
        "# Trabalho Final MC886\n",
        "\n",
        "Para o trabalho final iremos criar uma rede que seja capaz de gerar sentence embeddings, iremos testa-la com o Quora Question Pair dataset. A tarefa de teste consiste em dizer se duas perguntas são iguais ou não.\n",
        "Iremos comparar esses resultados com os obtidos pelo universal sentence encoder."
      ]
    },
    {
      "cell_type": "markdown",
      "metadata": {
        "id": "iwjqkfyVbILd",
        "colab_type": "text"
      },
      "source": [
        "## Treinando os word embeddings\n",
        "\n",
        "Como primeiro passo iremos treinar uma rede para gerar word embeddings específicos para nosso domínio. Testaremos duas ideias: gerar os embeddings do zero e gerar os embeddings a partir de embeddings já existentes (word2vec/glove)"
      ]
    },
    {
      "cell_type": "code",
      "metadata": {
        "id": "Bd-9fsv6v875",
        "colab_type": "code",
        "colab": {
          "base_uri": "https://localhost:8080/",
          "height": 122
        },
        "outputId": "8560597b-6a73-4363-b31c-e14989b3abc0"
      },
      "source": [
        "#Comando para ler o dataset do google drive\n",
        "from google.colab import drive\n",
        "drive.mount('/content/drive/')"
      ],
      "execution_count": null,
      "outputs": [
        {
          "output_type": "stream",
          "text": [
            "Go to this URL in a browser: https://accounts.google.com/o/oauth2/auth?client_id=947318989803-6bn6qk8qdgf4n4g3pfee6491hc0brc4i.apps.googleusercontent.com&redirect_uri=urn%3aietf%3awg%3aoauth%3a2.0%3aoob&response_type=code&scope=email%20https%3a%2f%2fwww.googleapis.com%2fauth%2fdocs.test%20https%3a%2f%2fwww.googleapis.com%2fauth%2fdrive%20https%3a%2f%2fwww.googleapis.com%2fauth%2fdrive.photos.readonly%20https%3a%2f%2fwww.googleapis.com%2fauth%2fpeopleapi.readonly\n",
            "\n",
            "Enter your authorization code:\n",
            "··········\n",
            "Mounted at /content/drive/\n"
          ],
          "name": "stdout"
        }
      ]
    },
    {
      "cell_type": "code",
      "metadata": {
        "id": "HNyP41Kiwiy9",
        "colab_type": "code",
        "colab": {}
      },
      "source": [
        "import re  # For preprocessing\n",
        "import pandas as pd  # For data handling\n",
        "from time import time  # To time our operations\n",
        "from collections import defaultdict  # For word frequency\n",
        "import zipfile\n",
        "import csv\n",
        "import numpy as np\n",
        "import spacy  # For preprocessing\n",
        "import multiprocessing\n",
        "from gensim.models import Word2Vec\n",
        "from sklearn.metrics.pairwise import cosine_similarity\n",
        "import matplotlib.pyplot as plt\n"
      ],
      "execution_count": null,
      "outputs": []
    },
    {
      "cell_type": "code",
      "metadata": {
        "id": "Xsl56b8bw3cV",
        "colab_type": "code",
        "colab": {}
      },
      "source": [
        "def loadData(arquivo,data):\n",
        "#Recebe o nome(arquivo) do zip e o nome do arquivo dentro do zip(data)\n",
        "#Retorna um objeto pandas\n",
        "  with zipfile.ZipFile(arquivo, 'r') as zip: \n",
        "      # printing all the contents of the zip file \n",
        "      zip.printdir()    \n",
        "      # extracting all the files \n",
        "      print('Extracting all the files now...') \n",
        "      zip.extractall() \n",
        "      print('Done!') \n",
        "  with open(data) as f:\n",
        "      df = pd.read_csv(data)\n",
        "  return df"
      ],
      "execution_count": null,
      "outputs": []
    },
    {
      "cell_type": "code",
      "metadata": {
        "id": "_yNhXCp8w70_",
        "colab_type": "code",
        "colab": {
          "base_uri": "https://localhost:8080/",
          "height": 340
        },
        "outputId": "fdeba182-def9-4043-9eeb-fffc16bf52df"
      },
      "source": [
        "#Coloque o diretório correto depois de 'drive'\n",
        "arquivo='/content/drive/My Drive/Colab Notebooks/question-pairs-dataset.zip'\n",
        "data=\"questions.csv\"\n",
        "df=loadData(arquivo,data)\n",
        "df.tail()\n"
      ],
      "execution_count": null,
      "outputs": [
        {
          "output_type": "stream",
          "text": [
            "File Name                                             Modified             Size\n",
            "questions.csv                                  2019-09-20 06:55:00     60747409\n",
            "Extracting all the files now...\n",
            "Done!\n"
          ],
          "name": "stdout"
        },
        {
          "output_type": "execute_result",
          "data": {
            "text/html": [
              "<div>\n",
              "<style scoped>\n",
              "    .dataframe tbody tr th:only-of-type {\n",
              "        vertical-align: middle;\n",
              "    }\n",
              "\n",
              "    .dataframe tbody tr th {\n",
              "        vertical-align: top;\n",
              "    }\n",
              "\n",
              "    .dataframe thead th {\n",
              "        text-align: right;\n",
              "    }\n",
              "</style>\n",
              "<table border=\"1\" class=\"dataframe\">\n",
              "  <thead>\n",
              "    <tr style=\"text-align: right;\">\n",
              "      <th></th>\n",
              "      <th>id</th>\n",
              "      <th>qid1</th>\n",
              "      <th>qid2</th>\n",
              "      <th>question1</th>\n",
              "      <th>question2</th>\n",
              "      <th>is_duplicate</th>\n",
              "    </tr>\n",
              "  </thead>\n",
              "  <tbody>\n",
              "    <tr>\n",
              "      <th>404346</th>\n",
              "      <td>404346</td>\n",
              "      <td>789792</td>\n",
              "      <td>789793</td>\n",
              "      <td>How many keywords are there in the Racket prog...</td>\n",
              "      <td>How many keywords are there in PERL Programmin...</td>\n",
              "      <td>0</td>\n",
              "    </tr>\n",
              "    <tr>\n",
              "      <th>404347</th>\n",
              "      <td>404347</td>\n",
              "      <td>789794</td>\n",
              "      <td>789795</td>\n",
              "      <td>Do you believe there is life after death?</td>\n",
              "      <td>Is it true that there is life after death?</td>\n",
              "      <td>1</td>\n",
              "    </tr>\n",
              "    <tr>\n",
              "      <th>404348</th>\n",
              "      <td>404348</td>\n",
              "      <td>789796</td>\n",
              "      <td>789797</td>\n",
              "      <td>What is one coin?</td>\n",
              "      <td>What's this coin?</td>\n",
              "      <td>0</td>\n",
              "    </tr>\n",
              "    <tr>\n",
              "      <th>404349</th>\n",
              "      <td>404349</td>\n",
              "      <td>789798</td>\n",
              "      <td>789799</td>\n",
              "      <td>What is the approx annual cost of living while...</td>\n",
              "      <td>I am having little hairfall problem but I want...</td>\n",
              "      <td>0</td>\n",
              "    </tr>\n",
              "    <tr>\n",
              "      <th>404350</th>\n",
              "      <td>404350</td>\n",
              "      <td>789800</td>\n",
              "      <td>789801</td>\n",
              "      <td>What is like to have sex with cousin?</td>\n",
              "      <td>What is it like to have sex with your cousin?</td>\n",
              "      <td>0</td>\n",
              "    </tr>\n",
              "  </tbody>\n",
              "</table>\n",
              "</div>"
            ],
            "text/plain": [
              "            id  ...  is_duplicate\n",
              "404346  404346  ...             0\n",
              "404347  404347  ...             1\n",
              "404348  404348  ...             0\n",
              "404349  404349  ...             0\n",
              "404350  404350  ...             0\n",
              "\n",
              "[5 rows x 6 columns]"
            ]
          },
          "metadata": {
            "tags": []
          },
          "execution_count": 11
        }
      ]
    },
    {
      "cell_type": "code",
      "metadata": {
        "id": "ZkvLwQm9xGtd",
        "colab_type": "code",
        "colab": {}
      },
      "source": [
        "#Separamos 80% para treino, 10% validação e 10% para teste\n",
        "def splitData(df,per):\n",
        "  size=int(df.shape[0]*per)\n",
        "  return df[:size], df[size:]\n",
        "q_train,q_test=splitData(df.values,0.8)\n",
        "q_test,q_val=splitData(q_test,0.5)"
      ],
      "execution_count": null,
      "outputs": []
    },
    {
      "cell_type": "code",
      "metadata": {
        "id": "pUOU0ikrxJ9P",
        "colab_type": "code",
        "colab": {
          "base_uri": "https://localhost:8080/",
          "height": 119
        },
        "outputId": "1c90f4d8-c540-479f-b11a-5cf4a9a63836"
      },
      "source": [
        "#Colocamos todas frases em array para treinar para Word2vec\n",
        "frases_train=np.hstack((q_train[:,3],q_train[:,4]))\n",
        "frases_train"
      ],
      "execution_count": null,
      "outputs": [
        {
          "output_type": "execute_result",
          "data": {
            "text/plain": [
              "array(['What is the step by step guide to invest in share market in india?',\n",
              "       'What is the story of Kohinoor (Koh-i-Noor) Diamond?',\n",
              "       'How can I increase the speed of my internet connection while using a VPN?',\n",
              "       ..., 'Will the BJP win in the UP assembly elections in 2017?',\n",
              "       'How can Modi government prevent black money by discontinuing 500 and 1000 notes?',\n",
              "       'What is an overrated overrating?'], dtype=object)"
            ]
          },
          "metadata": {
            "tags": []
          },
          "execution_count": 13
        }
      ]
    },
    {
      "cell_type": "code",
      "metadata": {
        "id": "Yc0JBbWzxNm4",
        "colab_type": "code",
        "colab": {
          "base_uri": "https://localhost:8080/",
          "height": 204
        },
        "outputId": "5c641440-09e7-4cec-c197-80909b91b777"
      },
      "source": [
        "def cleaning(doc):\n",
        "    # Lematizamos e removemos stopWords  e pontuação\n",
        "    #Removemos stopWords, pois eles não tem tanta importância para o modelo.\n",
        "    #A ideia por trás de lematizar é basicamente  ficar com as raízes das palavras.\n",
        "    # Por exemplo,se temos as palavras 'encontraram' e 'encontrará', ficaremos com a palavra encontrar em ambos os casos.\n",
        "    #Lematizamos apenas para simplificar o modelo\n",
        "    # doc needs to be a spacy Doc object\n",
        "    txt = [token.lemma_ for token in doc if not (token.is_stop or token.is_punct)]\n",
        "    return ' '.join(txt)\n",
        "def processaData(frases):\n",
        "    nlp = spacy.load('en', disable=['ner', 'parser']) # desabilitamos Named Entity Recognition e importamos o modelo\n",
        "    brief_cleaning = [( str(row)).lower() for row in frases]\n",
        "    #Processamos o data\n",
        "    txt = [cleaning(doc) for doc in nlp.pipe(brief_cleaning, batch_size=5000, n_threads=-1)]\n",
        "    return txt\n",
        "\n",
        "t = time()\n",
        "frases_train_p=processaData(frases_train)\n",
        "print('Time to build vocab: {} mins'.format(round((time() - t) / 60, 2)))\n",
        "frases_train_p[:10]\n"
      ],
      "execution_count": null,
      "outputs": [
        {
          "output_type": "stream",
          "text": [
            "Time to build vocab: 8.09 mins\n"
          ],
          "name": "stdout"
        },
        {
          "output_type": "execute_result",
          "data": {
            "text/plain": [
              "['step step guide invest share market india',\n",
              " 'story kohinoor koh noor diamond',\n",
              " 'increase speed internet connection vpn',\n",
              " 'mentally lonely solve',\n",
              " 'dissolve water quikly sugar salt methane carbon di oxide',\n",
              " 'astrology capricorn sun cap moon cap rise',\n",
              " 'buy tiago',\n",
              " 'good geologist',\n",
              " 'use シ instead し',\n",
              " 'motorola company hack charter motorolla dcx3400']"
            ]
          },
          "metadata": {
            "tags": []
          },
          "execution_count": 14
        }
      ]
    },
    {
      "cell_type": "code",
      "metadata": {
        "id": "NzuzSojLxgKa",
        "colab_type": "code",
        "colab": {}
      },
      "source": [
        "#Transformamos em bigrams para facilitar o precessamento\n",
        "from gensim.models.phrases import Phrases, Phraser\n",
        "sent = [row.split() for row in frases_train_p]\n",
        "phrases = Phrases(sent, min_count=20, progress_per=10000)\n",
        "bigram = Phraser(phrases)\n",
        "sentences = bigram[sent]\n"
      ],
      "execution_count": null,
      "outputs": []
    },
    {
      "cell_type": "code",
      "metadata": {
        "id": "beRiIwbzxp3d",
        "colab_type": "code",
        "colab": {}
      },
      "source": [
        "def cosineSimlarity(vec1,vec2):\n",
        "  #Calula a similaridade entre duas frases/vetores pela métrica cosseno\n",
        "  return cosine_similarity( vec1.reshape(1, -1), vec2.reshape(1, -1) )\n",
        "def mediaWordVectors(frase,wv_model):\n",
        "  #Calcula a média de uma frase\n",
        "  count=0\n",
        "  output=np.zeros(300)\n",
        "  aux =str(frase).split() \n",
        "  for word in aux:\n",
        "    #ignoramos as palavras que não estão no vocabulário\n",
        "    if word in wv_model.vocab:\n",
        "     count=count+1\n",
        "     output=wv_model.get_vector(word)  +output\n",
        "  if( count>1):\n",
        "    return output/count\n",
        "  else: \n",
        "    return output\n",
        "def acuracyAndErroQuadratico(data,lowerLimit , wv_model):\n",
        "  #Por padrão, o data terá por linha duas frases e um número avisando se é similar(1) ou nao(0)\n",
        "  acuracia=0\n",
        "  erro=0\n",
        "  for linha in data:\n",
        "    aux=cosineSimlarity(   mediaWordVectors(linha[0],wv_model) , mediaWordVectors(linha[1],wv_model)   )\n",
        "    erro=(linha[2]-aux)**2+erro\n",
        "    if(aux>=lowerLimit):\n",
        "      aux=1\n",
        "    else: aux=0\n",
        "    if(linha[2]==aux):\n",
        "      acuracia=acuracia+1\n",
        "  return acuracia/data.shape[0], erro/data.shape[0]\n",
        "\n",
        "\n"
      ],
      "execution_count": null,
      "outputs": []
    },
    {
      "cell_type": "code",
      "metadata": {
        "id": "gD8bSmy5yJr5",
        "colab_type": "code",
        "colab": {
          "base_uri": "https://localhost:8080/",
          "height": 34
        },
        "outputId": "57090b3f-f0bf-43db-b029-f3c2ba0a3151"
      },
      "source": [
        "#Apenas processamos os dados para deixar as palavras legíveis, ou seja,\n",
        "#Frases como \"how are you?\" ficará \"how are you ?\", pois caso contrário ele pode interpretar  \"you?\" como uma palavra \n",
        "t = time()\n",
        "data_all=[]\n",
        "\n",
        "data_test=q_test[:,3:].copy()\n",
        "data_val=q_val[:,3:].copy()\n",
        "data_train=q_train[:,3:].copy()\n",
        "\n",
        "data_all.append(data_test)\n",
        "data_all.append(data_val)\n",
        "data_all.append(data_train)\n",
        "\n",
        "nlp = spacy.load('en', disable=['ner', 'parser']) # desabilitamos Named Entity Recognition e importamos o modelo\n",
        "for data in data_all:\n",
        "  for linha in data:\n",
        "    linha[0]=' '.join([token.orth_ for token in nlp( str(linha[0]).lower() ) ])\n",
        "    linha[1]=' '.join([token.orth_ for token in nlp( str(linha[1]).lower() ) ])\n",
        "print('Time to build vocab: {} mins'.format(round((time() - t) / 60, 2)))\n",
        "\n"
      ],
      "execution_count": null,
      "outputs": [
        {
          "output_type": "stream",
          "text": [
            "Time to build vocab: 32.22 mins\n"
          ],
          "name": "stdout"
        }
      ]
    },
    {
      "cell_type": "code",
      "metadata": {
        "id": "ruzHFTduztTB",
        "colab_type": "code",
        "colab": {
          "base_uri": "https://localhost:8080/",
          "height": 54
        },
        "outputId": "f843d78b-28b9-4c69-ad5a-0143f972be85"
      },
      "source": [
        "#Importamos o modelo 'word2vec-google-news-300' apenas para comparação\n",
        "import gensim.downloader as api\n",
        "wv_model = api.load('word2vec-google-news-300')"
      ],
      "execution_count": null,
      "outputs": [
        {
          "output_type": "stream",
          "text": [
            "[=====================================-------------] 74.2% 1234.3/1662.8MB downloadedBuffered data was truncated after reaching the output size limit."
          ],
          "name": "stdout"
        }
      ]
    },
    {
      "cell_type": "code",
      "metadata": {
        "id": "-wZtTR_kzv7_",
        "colab_type": "code",
        "colab": {
          "base_uri": "https://localhost:8080/",
          "height": 34
        },
        "outputId": "e0926236-519e-4adc-b0b6-524a05f77b70"
      },
      "source": [
        "cores = multiprocessing.cpu_count() # Count the number of cores in a computer\n",
        "w2v_model = Word2Vec(min_count=20,# frequência mínima de uma palavra no corpus que será considerada no modelo\n",
        "                     window=2,#Quantidade de palavras a direita e a esquerda de uma palavra central\n",
        "                     size=300,#Quantidade de neurônios na camada escondida\n",
        "                     sample=6e-5, \n",
        "                     alpha=0.03, \n",
        "                     min_alpha=0.0007, \n",
        "                     negative=20,\n",
        "                     workers=cores-1,\n",
        "                     sg=1)#Setamos um para utilizarmos o molode skip-gram\n",
        "\n",
        "t = time()\n",
        "#Construímos o vocabulário\n",
        "w2v_model.build_vocab(sentences, progress_per=10000)\n",
        "\n",
        "print('Time to build vocab: {} mins'.format(round((time() - t) / 60, 2)))\n"
      ],
      "execution_count": null,
      "outputs": [
        {
          "output_type": "stream",
          "text": [
            "Time to build vocab: 0.2 mins\n"
          ],
          "name": "stdout"
        }
      ]
    },
    {
      "cell_type": "code",
      "metadata": {
        "id": "HEQPn8Yp0Os7",
        "colab_type": "code",
        "colab": {
          "base_uri": "https://localhost:8080/",
          "height": 34
        },
        "outputId": "74041c81-93ef-41b5-fef8-0ae10203854f"
      },
      "source": [
        "t = time()\n",
        "acu_train=[]\n",
        "err_train=[]\n",
        "acu_val=[]\n",
        "err_val=[]\n",
        "n_ep=10\n",
        "#Treinamos o modelo por 10 épocas e guardamos o erro e a acurácia para cada época\n",
        "for ep in range(n_ep):\n",
        "  w2v_model.train(sentences, total_examples=w2v_model.corpus_count, epochs=ep, report_delay=1)\n",
        "  w2v_model.init_sims(replace=True)\n",
        "  a,e=acuracyAndErroQuadratico(data_train,0.75 , w2v_model.wv)\n",
        "  acu_train.append(a)\n",
        "  err_train.append(e)\n",
        "  a,e=acuracyAndErroQuadratico(data_val,0.75 , w2v_model.wv)\n",
        "  acu_val.append(a)\n",
        "  err_val.append(e)\n",
        "print('Time to train the model: {} mins'.format(round((time() - t) / 60, 2)))"
      ],
      "execution_count": null,
      "outputs": [
        {
          "output_type": "stream",
          "text": [
            "Time to train the model: 23.66 mins\n"
          ],
          "name": "stdout"
        }
      ]
    },
    {
      "cell_type": "code",
      "metadata": {
        "id": "Tc0dvbIQ0Pfd",
        "colab_type": "code",
        "colab": {
          "base_uri": "https://localhost:8080/",
          "height": 590
        },
        "outputId": "5e2a18dd-95d8-473d-bd95-25d246de7f27"
      },
      "source": [
        "#Plotamos os resultados\n",
        "X=np.arange(n_ep)\n",
        "fig, axs = plt.subplots()\n",
        "axs.scatter(X,acu_train, label='Acurácia Treino')\n",
        "axs.scatter(X,acu_val,label='Acurácia Validação')\n",
        "axs.set(xlabel='epochs')\n",
        "axs.set(ylabel='Acurácia')\n",
        "axs.set_title(\"Word2Vec Treinado\")\n",
        "axs.legend()\n",
        "\n",
        "fig, axs = plt.subplots()\n",
        "axs.scatter(X,err_train, label='Loss Treino')\n",
        "axs.scatter(X,err_val,label='Loss Validação')\n",
        "axs.set(xlabel='epochs')\n",
        "axs.set(ylabel='Loss')\n",
        "axs.set_title(\"Word2Vec Treinado\")\n",
        "axs.legend()"
      ],
      "execution_count": null,
      "outputs": [
        {
          "output_type": "execute_result",
          "data": {
            "text/plain": [
              "<matplotlib.legend.Legend at 0x7ff4e4911978>"
            ]
          },
          "metadata": {
            "tags": []
          },
          "execution_count": 21
        },
        {
          "output_type": "display_data",
          "data": {
            "image/png": "[encoded data removed]",
            "text/plain": [
              "<Figure size 432x288 with 1 Axes>"
            ]
          },
          "metadata": {
            "tags": []
          }
        },
        {
          "output_type": "display_data",
          "data": {
            "image/png": "[encoded data removed]",
            "text/plain": [
              "<Figure size 432x288 with 1 Axes>"
            ]
          },
          "metadata": {
            "tags": []
          }
        }
      ]
    },
    {
      "cell_type": "code",
      "metadata": {
        "id": "wWvPeMGJ0xgO",
        "colab_type": "code",
        "colab": {
          "base_uri": "https://localhost:8080/",
          "height": 312
        },
        "outputId": "35b84212-0343-4bc5-c9fe-19cda56c680e"
      },
      "source": [
        "#Iremos verificar qual é o melhor threshold para maxizar o valor da acurácia para o modelo treinado do zero\n",
        "#Note que nesse caso threshold=limit\n",
        "limit=0.1\n",
        "err_test=[]\n",
        "acu_test=[]\n",
        "limits=[]\n",
        "while( limit<0.95):\n",
        "  limits.append(limit)\n",
        "  a,e=acuracyAndErroQuadratico(data_test,limit,w2v_model.wv)\n",
        "  err_test.append(e)\n",
        "  acu_test.append(a)\n",
        "  limit=limit+0.05\n",
        "#Plotamos os resultados\n",
        "fig, axs = plt.subplots()\n",
        "axs.scatter(limits,acu_test, label='Acurácia teste')\n",
        "axs.set(xlabel='threshold')\n",
        "axs.set(ylabel='Acurácia')\n",
        "axs.set_title(\"Word2Vec modelo treinado\")\n",
        "axs.legend()"
      ],
      "execution_count": null,
      "outputs": [
        {
          "output_type": "execute_result",
          "data": {
            "text/plain": [
              "<matplotlib.legend.Legend at 0x7ff4e4a59b38>"
            ]
          },
          "metadata": {
            "tags": []
          },
          "execution_count": 22
        },
        {
          "output_type": "display_data",
          "data": {
            "image/png": "[encoded data removed]",
            "text/plain": [
              "<Figure size 432x288 with 1 Axes>"
            ]
          },
          "metadata": {
            "tags": []
          }
        }
      ]
    },
    {
      "cell_type": "code",
      "metadata": {
        "id": "uelqmorb0xl2",
        "colab_type": "code",
        "colab": {
          "base_uri": "https://localhost:8080/",
          "height": 312
        },
        "outputId": "00ec6d9b-b5ae-4c75-e455-8a248e75d428"
      },
      "source": [
        "#Iremos verificar qual é o melhor threshold para maxizar o valor da acurácia para o modelo importado\n",
        "limit=0.1\n",
        "err_test2=[]\n",
        "acu_test2=[]\n",
        "limits=[]\n",
        "while( limit<0.95):\n",
        "  limits.append(limit)\n",
        "  a,e=acuracyAndErroQuadratico(data_test,limit,wv_model)\n",
        "  err_test2.append(e)\n",
        "  acu_test2.append(a)\n",
        "  limit=limit+0.05\n",
        "#Plotamos os resultados\n",
        "fig, axs = plt.subplots()\n",
        "axs.scatter(limits,acu_test2, label='Acurácia teste')\n",
        "axs.set(xlabel='threshold')\n",
        "axs.set(ylabel='Acurácia')\n",
        "axs.set_title(\"Word2Vec modelo importado\")\n",
        "axs.legend()"
      ],
      "execution_count": null,
      "outputs": [
        {
          "output_type": "execute_result",
          "data": {
            "text/plain": [
              "<matplotlib.legend.Legend at 0x7ff4e4ae5668>"
            ]
          },
          "metadata": {
            "tags": []
          },
          "execution_count": 23
        },
        {
          "output_type": "display_data",
          "data": {
            "image/png": "[encoded data removed]",
            "text/plain": [
              "<Figure size 432x288 with 1 Axes>"
            ]
          },
          "metadata": {
            "tags": []
          }
        }
      ]
    },
    {
      "cell_type": "code",
      "metadata": {
        "id": "0nl-nXfYw6mV",
        "colab_type": "code",
        "colab": {}
      },
      "source": [
        ""
      ],
      "execution_count": null,
      "outputs": []
    },
    {
      "cell_type": "markdown",
      "metadata": {
        "id": "EhZjUVOB4d3_",
        "colab_type": "text"
      },
      "source": [
        "## Abordagem com redes neurais\n",
        "\n",
        "Abordagem usando duas biLSTM's siamases e word embeddings como entrada.\n",
        "\n",
        "Abordagem usando duas biLSTMs siamesas e rede classicador\n",
        "\n",
        "Abordagem com USE e rede classificadora\n",
        "\n",
        "Para rodar basta colocar o arquivo 'questions.csv' na raiz do projeto e rodar o código em ordem"
      ]
    },
    {
      "cell_type": "code",
      "metadata": {
        "id": "6S1nNRcS6yAz",
        "colab_type": "code",
        "colab": {
          "base_uri": "https://localhost:8080/",
          "height": 204
        },
        "outputId": "9ea5d314-d6b0-4595-a902-232f23f5868b"
      },
      "source": [
        "!wget -c \"https://s3.amazonaws.com/dl4j-distribution/GoogleNews-vectors-negative300.bin.gz\""
      ],
      "execution_count": null,
      "outputs": [
        {
          "output_type": "stream",
          "text": [
            "--2019-12-06 22:10:36--  https://s3.amazonaws.com/dl4j-distribution/GoogleNews-vectors-negative300.bin.gz\n",
            "Resolving s3.amazonaws.com (s3.amazonaws.com)... 52.216.136.13\n",
            "Connecting to s3.amazonaws.com (s3.amazonaws.com)|52.216.136.13|:443... connected.\n",
            "HTTP request sent, awaiting response... 200 OK\n",
            "Length: 1647046227 (1.5G) [application/x-gzip]\n",
            "Saving to: ‘GoogleNews-vectors-negative300.bin.gz’\n",
            "\n",
            "GoogleNews-vectors- 100%[===================>]   1.53G  45.8MB/s    in 26s     \n",
            "\n",
            "2019-12-06 22:11:03 (60.5 MB/s) - ‘GoogleNews-vectors-negative300.bin.gz’ saved [1647046227/1647046227]\n",
            "\n"
          ],
          "name": "stdout"
        }
      ]
    },
    {
      "cell_type": "code",
      "metadata": {
        "id": "5ed4yOVd7JQ5",
        "colab_type": "code",
        "colab": {}
      },
      "source": [
        "!gunzip /content/GoogleNews-vectors-negative300.bin.gz\n",
        "# !unzip /content/crawl-300d-2M-subword.zip"
      ],
      "execution_count": null,
      "outputs": []
    },
    {
      "cell_type": "code",
      "metadata": {
        "id": "3QQvyMioAtSb",
        "colab_type": "code",
        "colab": {
          "base_uri": "https://localhost:8080/",
          "height": 238
        },
        "outputId": "e70c870e-738b-4d74-8625-9e34c5b5a7a3"
      },
      "source": [
        "TASK_DATA_DIR = 'glue_data/QQP'\n",
        "!test -d glue_data || git clone https://gist.github.com/60c2bdb54d156a41194446737ce03e2e.git glue_data\n",
        "!test -d $TASK_DATA_DIR || python glue_data/download_glue_data.py --data_dir glue_data --tasks=QQP\n",
        "!ls -als $TASK_DATA_DIR"
      ],
      "execution_count": null,
      "outputs": [
        {
          "output_type": "stream",
          "text": [
            "Cloning into 'glue_data'...\n",
            "remote: Enumerating objects: 21, done.\u001b[K\n",
            "remote: Total 21 (delta 0), reused 0 (delta 0), pack-reused 21\n",
            "Unpacking objects: 100% (21/21), done.\n",
            "Downloading and extracting QQP...\n",
            "\tCompleted!\n",
            "total 106400\n",
            "    4 drwxr-xr-x 3 root root     4096 Dec  6 22:11 .\n",
            "    4 drwxr-xr-x 4 root root     4096 Dec  6 22:11 ..\n",
            " 5680 -rw-r--r-- 1 root root  5815716 Dec  6 22:11 dev.tsv\n",
            "    4 drwxr-xr-x 2 root root     4096 Dec  6 22:11 original\n",
            "49572 -rw-r--r-- 1 root root 50759408 Dec  6 22:11 test.tsv\n",
            "51136 -rw-r--r-- 1 root root 52360463 Dec  6 22:11 train.tsv\n"
          ],
          "name": "stdout"
        }
      ]
    },
    {
      "cell_type": "code",
      "metadata": {
        "id": "x3AGQuK8-rQ5",
        "colab_type": "code",
        "colab": {
          "base_uri": "https://localhost:8080/",
          "height": 799
        },
        "outputId": "7257df22-73ff-4063-c4eb-9c7ed099b69b"
      },
      "source": [
        "!pip3 install tensorflow-gpu==1.13.1\n",
        "!pip3 install tf-sentencepiece\n",
        "!pip3 install sentencepiece"
      ],
      "execution_count": null,
      "outputs": [
        {
          "output_type": "stream",
          "text": [
            "Collecting tensorflow-gpu==1.13.1\n",
            "\u001b[?25l  Downloading https://files.pythonhosted.org/packages/7b/b1/0ad4ae02e17ddd62109cd54c291e311c4b5fd09b4d0678d3d6ce4159b0f0/tensorflow_gpu-1.13.1-cp36-cp36m-manylinux1_x86_64.whl (345.2MB)\n",
            "\u001b[K     |████████████████████████████████| 345.2MB 44kB/s \n",
            "\u001b[?25hRequirement already satisfied: gast>=0.2.0 in /usr/local/lib/python3.6/dist-packages (from tensorflow-gpu==1.13.1) (0.2.2)\n",
            "Requirement already satisfied: keras-preprocessing>=1.0.5 in /usr/local/lib/python3.6/dist-packages (from tensorflow-gpu==1.13.1) (1.1.0)\n",
            "Requirement already satisfied: termcolor>=1.1.0 in /usr/local/lib/python3.6/dist-packages (from tensorflow-gpu==1.13.1) (1.1.0)\n",
            "Requirement already satisfied: numpy>=1.13.3 in /usr/local/lib/python3.6/dist-packages (from tensorflow-gpu==1.13.1) (1.17.4)\n",
            "Requirement already satisfied: keras-applications>=1.0.6 in /usr/local/lib/python3.6/dist-packages (from tensorflow-gpu==1.13.1) (1.0.8)\n",
            "Requirement already satisfied: grpcio>=1.8.6 in /usr/local/lib/python3.6/dist-packages (from tensorflow-gpu==1.13.1) (1.15.0)\n",
            "Requirement already satisfied: wheel>=0.26 in /usr/local/lib/python3.6/dist-packages (from tensorflow-gpu==1.13.1) (0.33.6)\n",
            "Requirement already satisfied: astor>=0.6.0 in /usr/local/lib/python3.6/dist-packages (from tensorflow-gpu==1.13.1) (0.8.0)\n",
            "Requirement already satisfied: absl-py>=0.1.6 in /usr/local/lib/python3.6/dist-packages (from tensorflow-gpu==1.13.1) (0.8.1)\n",
            "Requirement already satisfied: protobuf>=3.6.1 in /usr/local/lib/python3.6/dist-packages (from tensorflow-gpu==1.13.1) (3.10.0)\n",
            "Collecting tensorflow-estimator<1.14.0rc0,>=1.13.0\n",
            "\u001b[?25l  Downloading https://files.pythonhosted.org/packages/bb/48/13f49fc3fa0fdf916aa1419013bb8f2ad09674c275b4046d5ee669a46873/tensorflow_estimator-1.13.0-py2.py3-none-any.whl (367kB)\n",
            "\u001b[K     |████████████████████████████████| 368kB 59.9MB/s \n",
            "\u001b[?25hCollecting tensorboard<1.14.0,>=1.13.0\n",
            "\u001b[?25l  Downloading https://files.pythonhosted.org/packages/0f/39/bdd75b08a6fba41f098b6cb091b9e8c7a80e1b4d679a581a0ccd17b10373/tensorboard-1.13.1-py3-none-any.whl (3.2MB)\n",
            "\u001b[K     |████████████████████████████████| 3.2MB 39.4MB/s \n",
            "\u001b[?25hRequirement already satisfied: six>=1.10.0 in /usr/local/lib/python3.6/dist-packages (from tensorflow-gpu==1.13.1) (1.12.0)\n",
            "Requirement already satisfied: h5py in /usr/local/lib/python3.6/dist-packages (from keras-applications>=1.0.6->tensorflow-gpu==1.13.1) (2.8.0)\n",
            "Requirement already satisfied: setuptools in /usr/local/lib/python3.6/dist-packages (from protobuf>=3.6.1->tensorflow-gpu==1.13.1) (42.0.1)\n",
            "Collecting mock>=2.0.0\n",
            "  Downloading https://files.pythonhosted.org/packages/05/d2/f94e68be6b17f46d2c353564da56e6fb89ef09faeeff3313a046cb810ca9/mock-3.0.5-py2.py3-none-any.whl\n",
            "Requirement already satisfied: markdown>=2.6.8 in /usr/local/lib/python3.6/dist-packages (from tensorboard<1.14.0,>=1.13.0->tensorflow-gpu==1.13.1) (3.1.1)\n",
            "Requirement already satisfied: werkzeug>=0.11.15 in /usr/local/lib/python3.6/dist-packages (from tensorboard<1.14.0,>=1.13.0->tensorflow-gpu==1.13.1) (0.16.0)\n",
            "\u001b[31mERROR: tensorflow 1.15.0 has requirement tensorboard<1.16.0,>=1.15.0, but you'll have tensorboard 1.13.1 which is incompatible.\u001b[0m\n",
            "\u001b[31mERROR: tensorflow 1.15.0 has requirement tensorflow-estimator==1.15.1, but you'll have tensorflow-estimator 1.13.0 which is incompatible.\u001b[0m\n",
            "Installing collected packages: mock, tensorflow-estimator, tensorboard, tensorflow-gpu\n",
            "  Found existing installation: tensorflow-estimator 1.15.1\n",
            "    Uninstalling tensorflow-estimator-1.15.1:\n",
            "      Successfully uninstalled tensorflow-estimator-1.15.1\n",
            "  Found existing installation: tensorboard 1.15.0\n",
            "    Uninstalling tensorboard-1.15.0:\n",
            "      Successfully uninstalled tensorboard-1.15.0\n",
            "Successfully installed mock-3.0.5 tensorboard-1.13.1 tensorflow-estimator-1.13.0 tensorflow-gpu-1.13.1\n",
            "Collecting tf-sentencepiece\n",
            "\u001b[?25l  Downloading https://files.pythonhosted.org/packages/dc/2c/20800032089a9271757921f3adc1f2c7ec2d294ec9fa07b3115fab9d27c2/tf_sentencepiece-0.1.83-py2.py3-none-manylinux1_x86_64.whl (2.7MB)\n",
            "\u001b[K     |████████████████████████████████| 2.7MB 2.8MB/s \n",
            "\u001b[?25hInstalling collected packages: tf-sentencepiece\n",
            "Successfully installed tf-sentencepiece-0.1.83\n",
            "Collecting sentencepiece\n",
            "\u001b[?25l  Downloading https://files.pythonhosted.org/packages/14/3d/efb655a670b98f62ec32d66954e1109f403db4d937c50d779a75b9763a29/sentencepiece-0.1.83-cp36-cp36m-manylinux1_x86_64.whl (1.0MB)\n",
            "\u001b[K     |████████████████████████████████| 1.0MB 2.8MB/s \n",
            "\u001b[?25hInstalling collected packages: sentencepiece\n",
            "Successfully installed sentencepiece-0.1.83\n"
          ],
          "name": "stdout"
        }
      ]
    },
    {
      "cell_type": "markdown",
      "metadata": {
        "id": "ZQc2FHMSqjeV",
        "colab_type": "text"
      },
      "source": [
        "### Preparando os dados"
      ]
    },
    {
      "cell_type": "code",
      "metadata": {
        "id": "aF_ZPVoxsQzR",
        "colab_type": "code",
        "colab": {
          "base_uri": "https://localhost:8080/",
          "height": 355
        },
        "outputId": "8e9497d4-d35f-4208-c5b0-075f58c35e76"
      },
      "source": [
        "from numpy.random import seed\n",
        "seed(1)\n",
        "import tensorflow as tf\n",
        "import sentencepiece\n",
        "import tf_sentencepiece\n",
        "import tensorflow_hub as hub\n",
        "device_name = tf.test.gpu_device_name()\n",
        "if device_name != '/device:GPU:0':\n",
        "  raise SystemError('GPU device not found')\n",
        "print('Found GPU at: {}'.format(device_name))\n",
        "import pandas as pd\n",
        "import numpy as np\n",
        "import re\n",
        "import matplotlib.pyplot as plt\n",
        "import seaborn as sns\n",
        "import itertools\n",
        "import nltk\n",
        "nltk.download('stopwords')\n",
        "\n",
        "from gensim.models import KeyedVectors\n",
        "from nltk.corpus import stopwords\n",
        "from sklearn.model_selection import train_test_split\n",
        "from gensim.models.fasttext import FastText\n",
        "from keras.preprocessing.sequence import pad_sequences\n",
        "from keras.models import Model, Sequential\n",
        "from keras.layers import Input, Embedding, LSTM, Lambda, dot, Bidirectional, concatenate, Dense, Dropout, BatchNormalization\n",
        "import keras.backend as K\n",
        "from keras.optimizers import Adadelta, Adam\n",
        "from keras.callbacks import ModelCheckpoint\n",
        "from keras.utils import plot_model"
      ],
      "execution_count": null,
      "outputs": [
        {
          "output_type": "stream",
          "text": [
            "/usr/local/lib/python3.6/dist-packages/tensorflow/python/framework/dtypes.py:526: FutureWarning: Passing (type, 1) or '1type' as a synonym of type is deprecated; in a future version of numpy, it will be understood as (type, (1,)) / '(1,)type'.\n",
            "  _np_qint8 = np.dtype([(\"qint8\", np.int8, 1)])\n",
            "/usr/local/lib/python3.6/dist-packages/tensorflow/python/framework/dtypes.py:527: FutureWarning: Passing (type, 1) or '1type' as a synonym of type is deprecated; in a future version of numpy, it will be understood as (type, (1,)) / '(1,)type'.\n",
            "  _np_quint8 = np.dtype([(\"quint8\", np.uint8, 1)])\n",
            "/usr/local/lib/python3.6/dist-packages/tensorflow/python/framework/dtypes.py:528: FutureWarning: Passing (type, 1) or '1type' as a synonym of type is deprecated; in a future version of numpy, it will be understood as (type, (1,)) / '(1,)type'.\n",
            "  _np_qint16 = np.dtype([(\"qint16\", np.int16, 1)])\n",
            "/usr/local/lib/python3.6/dist-packages/tensorflow/python/framework/dtypes.py:529: FutureWarning: Passing (type, 1) or '1type' as a synonym of type is deprecated; in a future version of numpy, it will be understood as (type, (1,)) / '(1,)type'.\n",
            "  _np_quint16 = np.dtype([(\"quint16\", np.uint16, 1)])\n",
            "/usr/local/lib/python3.6/dist-packages/tensorflow/python/framework/dtypes.py:530: FutureWarning: Passing (type, 1) or '1type' as a synonym of type is deprecated; in a future version of numpy, it will be understood as (type, (1,)) / '(1,)type'.\n",
            "  _np_qint32 = np.dtype([(\"qint32\", np.int32, 1)])\n",
            "/usr/local/lib/python3.6/dist-packages/tensorflow/python/framework/dtypes.py:535: FutureWarning: Passing (type, 1) or '1type' as a synonym of type is deprecated; in a future version of numpy, it will be understood as (type, (1,)) / '(1,)type'.\n",
            "  np_resource = np.dtype([(\"resource\", np.ubyte, 1)])\n"
          ],
          "name": "stderr"
        },
        {
          "output_type": "display_data",
          "data": {
            "text/html": [
              "<p style=\"color: red;\">\n",
              "The default version of TensorFlow in Colab will soon switch to TensorFlow 2.x.<br>\n",
              "We recommend you <a href=\"https://www.tensorflow.org/guide/migrate\" target=\"_blank\">upgrade</a> now \n",
              "or ensure your notebook will continue to use TensorFlow 1.x via the <code>%tensorflow_version 1.x</code> magic:\n",
              "<a href=\"https://colab.research.google.com/notebooks/tensorflow_version.ipynb\" target=\"_blank\">more info</a>.</p>\n"
            ],
            "text/plain": [
              "<IPython.core.display.HTML object>"
            ]
          },
          "metadata": {
            "tags": []
          }
        },
        {
          "output_type": "stream",
          "text": [
            "Found GPU at: /device:GPU:0\n",
            "[nltk_data] Downloading package stopwords to /root/nltk_data...\n",
            "[nltk_data]   Unzipping corpora/stopwords.zip.\n"
          ],
          "name": "stdout"
        },
        {
          "output_type": "stream",
          "text": [
            "Using TensorFlow backend.\n"
          ],
          "name": "stderr"
        }
      ]
    },
    {
      "cell_type": "code",
      "metadata": {
        "id": "sz2x6Iwo5UMf",
        "colab_type": "code",
        "colab": {}
      },
      "source": [
        "TRAIN_PATH = './questions.csv'\n",
        "TEST_PATH = './glue_data/QQP/test.tsv'\n",
        "EMBEDDINGS_PATH = './GoogleNews-vectors-negative300.bin'\n",
        "questions_cols = ['question1', 'question2']"
      ],
      "execution_count": null,
      "outputs": []
    },
    {
      "cell_type": "code",
      "metadata": {
        "id": "laBbpZzc5m7x",
        "colab_type": "code",
        "colab": {
          "base_uri": "https://localhost:8080/",
          "height": 34
        },
        "outputId": "602e8ef3-ea42-4ef5-a781-e99996470d6d"
      },
      "source": [
        "train_df = pd.read_csv(TRAIN_PATH)\n",
        "\n",
        "train_df.sample(frac=1).reset_index(drop=True)\n",
        "keys = ['question1', 'question2', 'is_duplicate']\n",
        "train_df = train_df.dropna(subset=[keys[0], keys[1], keys[2]])\n",
        "print(train_df.isnull().values.any())\n",
        "\n",
        "test_df = pd.read_csv(TEST_PATH, sep='\\t')\n",
        "\n",
        "stop_words = set(stopwords.words('english'))\n",
        "\n",
        "def text_2_tokens(text):\n",
        "    text = str(text)\n",
        "    text = text.lower()\n",
        "\n",
        "        # Clean the text\n",
        "    text = re.sub(r\"[^A-Za-z0-9^,!.\\/'+-=]\", \" \", text)\n",
        "    text = re.sub(r\"what's\", \"what is \", text)\n",
        "    text = re.sub(r\"\\'s\", \" \", text)\n",
        "    text = re.sub(r\"\\'ve\", \" have \", text)\n",
        "    text = re.sub(r\"can't\", \"cannot \", text)\n",
        "    text = re.sub(r\"n't\", \" not \", text)\n",
        "    text = re.sub(r\"i'm\", \"i am \", text)\n",
        "    text = re.sub(r\"\\'re\", \" are \", text)\n",
        "    text = re.sub(r\"\\'d\", \" would \", text)\n",
        "    text = re.sub(r\"\\'ll\", \" will \", text)\n",
        "    text = re.sub(r\",\", \" \", text)\n",
        "    text = re.sub(r\"\\.\", \" \", text)\n",
        "    text = re.sub(r\"!\", \" ! \", text)\n",
        "    text = re.sub(r\"\\/\", \" \", text)\n",
        "    text = re.sub(r\"\\^\", \" ^ \", text)\n",
        "    text = re.sub(r\"\\+\", \" + \", text)\n",
        "    text = re.sub(r\"\\-\", \" - \", text)\n",
        "    text = re.sub(r\"\\=\", \" = \", text)\n",
        "    text = re.sub(r\"'\", \" \", text)\n",
        "    text = re.sub(r\"(\\d+)(k)\", r\"\\g<1>000\", text)\n",
        "    text = re.sub(r\":\", \" : \", text)\n",
        "    text = re.sub(r\" e g \", \" eg \", text)\n",
        "    text = re.sub(r\" b g \", \" bg \", text)\n",
        "    text = re.sub(r\" u s \", \" american \", text)\n",
        "    text = re.sub(r\"\\0s\", \"0\", text)\n",
        "    text = re.sub(r\" 9 11 \", \"911\", text)\n",
        "    text = re.sub(r\"e - mail\", \"email\", text)\n",
        "    text = re.sub(r\"j k\", \"jk\", text)\n",
        "    text = re.sub(r\"\\s{2,}\", \" \", text)\n",
        "\n",
        "    text = text.split()\n",
        "\n",
        "    return text\n",
        "\n",
        "X_use = train_df[questions_cols]\n",
        "Y_use = train_df['is_duplicate']\n",
        "X_train_use, X_validation_use, Y_train_use, Y_validation_use = train_test_split(X_use,Y_use,test_size=int(len(train_df)*0.1))"
      ],
      "execution_count": null,
      "outputs": [
        {
          "output_type": "stream",
          "text": [
            "False\n"
          ],
          "name": "stdout"
        }
      ]
    },
    {
      "cell_type": "code",
      "metadata": {
        "id": "oQ87Q5uX7KeN",
        "colab_type": "code",
        "colab": {
          "base_uri": "https://localhost:8080/",
          "height": 71
        },
        "outputId": "2eb60440-9e93-47cb-ec44-a5dbbea43851"
      },
      "source": [
        "vocab = {}\n",
        "inverse_vocab = ['<unk>']\n",
        "word2vec = KeyedVectors.load_word2vec_format(EMBEDDINGS_PATH, binary=True)"
      ],
      "execution_count": null,
      "outputs": [
        {
          "output_type": "stream",
          "text": [
            "/usr/local/lib/python3.6/dist-packages/smart_open/smart_open_lib.py:402: UserWarning: This function is deprecated, use smart_open.open instead. See the migration notes for details: https://github.com/RaRe-Technologies/smart_open/blob/master/README.rst#migrating-to-the-new-open-function\n",
            "  'See the migration notes for details: %s' % _MIGRATION_NOTES_URL\n"
          ],
          "name": "stderr"
        }
      ]
    },
    {
      "cell_type": "code",
      "metadata": {
        "id": "ckPTNOqKOjia",
        "colab_type": "code",
        "colab": {}
      },
      "source": [
        "from collections import Counter\n",
        "import numpy as np\n",
        "import matplotlib.pyplot as plt\n",
        "\n",
        "labels, values = zip(*Counter(train_df['question1'].tolist() + train_df['question2'].tolist()).items())\n",
        "\n",
        "indexes = np.arange(len(labels))\n",
        "width = 1\n",
        "\n",
        "plt.bar(indexes, values, width)\n",
        "plt.xticks(indexes + width * 0.5, labels)\n",
        "plt.show()"
      ],
      "execution_count": null,
      "outputs": []
    },
    {
      "cell_type": "code",
      "metadata": {
        "id": "PO6UKJJT8bdw",
        "colab_type": "code",
        "colab": {
          "base_uri": "https://localhost:8080/",
          "height": 54
        },
        "outputId": "d79e5993-0ffa-4c88-a798-c506c0c77037"
      },
      "source": [
        "outside_words=set()\n",
        "\n",
        "for dataset in [train_df, test_df]:\n",
        "    for i, row in (dataset.iterrows()):\n",
        "        for q in questions_cols:\n",
        "            q_vector = []\n",
        "            count_ = 0\n",
        "            for w in text_2_tokens(row[q]):\n",
        "                # if w in stop_words and w not in word2vec.vocab:\n",
        "                #     continue\n",
        "                if w not in word2vec.vocab:\n",
        "                    outside_words.add(w)\n",
        "                    continue\n",
        "                if count_ >= 250:\n",
        "                    continue\n",
        "                count_ +=1\n",
        "                if w not in vocab:\n",
        "                    vocab[w] = len(inverse_vocab)\n",
        "                    q_vector.append(vocab[w])\n",
        "                    inverse_vocab.append(w)\n",
        "                else:\n",
        "                    q_vector.append(vocab[w])\n",
        "                    \n",
        "            dataset.set_value(i, q, q_vector)"
      ],
      "execution_count": null,
      "outputs": [
        {
          "output_type": "stream",
          "text": [
            "/usr/local/lib/python3.6/dist-packages/ipykernel_launcher.py:24: FutureWarning: set_value is deprecated and will be removed in a future release. Please use .at[] or .iat[] accessors instead\n"
          ],
          "name": "stderr"
        }
      ]
    },
    {
      "cell_type": "code",
      "metadata": {
        "id": "jDXJN24y-v-n",
        "colab_type": "code",
        "colab": {}
      },
      "source": [
        "embedding_dim = 300\n",
        "embeddings = 1 * np.random.randn(len(vocab) + 1, embedding_dim)\n",
        "embeddings[0] = 0\n",
        "\n",
        "for word, index in vocab.items():\n",
        "    if word in word2vec.vocab:\n",
        "        embeddings[index] = word2vec.word_vec(word)\n",
        "\n",
        "del word2vec"
      ],
      "execution_count": null,
      "outputs": []
    },
    {
      "cell_type": "code",
      "metadata": {
        "id": "xSoOXAPg-yur",
        "colab_type": "code",
        "colab": {
          "base_uri": "https://localhost:8080/",
          "height": 224
        },
        "outputId": "7602b6c2-9303-47c6-bd58-b8b6cb2985d2"
      },
      "source": [
        "max_seq_length = max(train_df.question1.map(lambda x: len(x)).max(),\n",
        "                    train_df.question2.map(lambda x: len(x)).max(),\n",
        "                    test_df.question1.map(lambda x: len(x)).max(),\n",
        "                    test_df.question2.map(lambda x: len(x)).max())\n",
        "\n",
        "print('max seq: {}'.format(max_seq_length))\n",
        "num_samples = len(train_df)\n",
        "validation_size = int((num_samples * 0.1))\n",
        "training_size = len(train_df)-validation_size\n",
        "\n",
        "# Split to train validation\n",
        "\n",
        "X = train_df[questions_cols]\n",
        "X_test = test_df[questions_cols]\n",
        "Y = train_df['is_duplicate']\n",
        "\n",
        "# train test split x and y into train and validation\n",
        "X_train, X_validation, Y_train, Y_validation = train_test_split(X,Y,test_size = validation_size)\n",
        "\n",
        "# Split to dicts\n",
        "X_test = {'left':X_test.question1,'right':X_test.question2}\n",
        "X_train = {'left':X_train.question1,'right':X_train.question2}\n",
        "X_validation = {'left':X_validation.question1,'right':X_validation.question2}\n",
        "\n",
        "# fetch Ys\n",
        "Y_train = Y_train.values\n",
        "Y_test = Y_validation.values\n",
        "\n",
        "# zero padding\n",
        "\n",
        "for dataset, side in itertools.product([X_test, X_train,X_validation],['left','right']):\n",
        "  dataset[side] = pad_sequences(dataset[side], maxlen = max_seq_length)\n",
        "\n",
        "# Make sure everything is ok\n",
        "assert X_train['left'].shape == X_train['right'].shape\n",
        "assert len(X_train['left']) == len(Y_train)\n",
        "train_df.head()"
      ],
      "execution_count": null,
      "outputs": [
        {
          "output_type": "stream",
          "text": [
            "max seq: 50\n"
          ],
          "name": "stdout"
        },
        {
          "output_type": "execute_result",
          "data": {
            "text/html": [
              "<div>\n",
              "<style scoped>\n",
              "    .dataframe tbody tr th:only-of-type {\n",
              "        vertical-align: middle;\n",
              "    }\n",
              "\n",
              "    .dataframe tbody tr th {\n",
              "        vertical-align: top;\n",
              "    }\n",
              "\n",
              "    .dataframe thead th {\n",
              "        text-align: right;\n",
              "    }\n",
              "</style>\n",
              "<table border=\"1\" class=\"dataframe\">\n",
              "  <thead>\n",
              "    <tr style=\"text-align: right;\">\n",
              "      <th></th>\n",
              "      <th>id</th>\n",
              "      <th>qid1</th>\n",
              "      <th>qid2</th>\n",
              "      <th>question1</th>\n",
              "      <th>question2</th>\n",
              "      <th>is_duplicate</th>\n",
              "    </tr>\n",
              "  </thead>\n",
              "  <tbody>\n",
              "    <tr>\n",
              "      <th>0</th>\n",
              "      <td>0</td>\n",
              "      <td>1</td>\n",
              "      <td>2</td>\n",
              "      <td>[1, 2, 3, 4, 5, 4, 6, 7, 8, 9, 10, 8, 11]</td>\n",
              "      <td>[1, 2, 3, 4, 5, 4, 6, 7, 8, 9, 10]</td>\n",
              "      <td>0</td>\n",
              "    </tr>\n",
              "    <tr>\n",
              "      <th>1</th>\n",
              "      <td>1</td>\n",
              "      <td>3</td>\n",
              "      <td>4</td>\n",
              "      <td>[1, 2, 3, 12, 13, 14, 15, 16]</td>\n",
              "      <td>[1, 17, 18, 19, 3, 20, 21, 22, 3, 13, 14, 15, ...</td>\n",
              "      <td>0</td>\n",
              "    </tr>\n",
              "    <tr>\n",
              "      <th>2</th>\n",
              "      <td>2</td>\n",
              "      <td>5</td>\n",
              "      <td>6</td>\n",
              "      <td>[24, 25, 14, 26, 3, 27, 28, 29, 30, 31, 32, 33]</td>\n",
              "      <td>[24, 25, 29, 27, 34, 35, 5, 36, 37, 38]</td>\n",
              "      <td>0</td>\n",
              "    </tr>\n",
              "    <tr>\n",
              "      <th>3</th>\n",
              "      <td>3</td>\n",
              "      <td>7</td>\n",
              "      <td>8</td>\n",
              "      <td>[39, 40, 14, 41, 42, 43, 24, 25, 14, 44, 45]</td>\n",
              "      <td>[46, 3, 47, 48, 49, 50, 49, 2, 51, 5]</td>\n",
              "      <td>0</td>\n",
              "    </tr>\n",
              "    <tr>\n",
              "      <th>4</th>\n",
              "      <td>4</td>\n",
              "      <td>9</td>\n",
              "      <td>10</td>\n",
              "      <td>[52, 53, 54, 8, 55, 56, 57, 58, 59, 60, 61]</td>\n",
              "      <td>[52, 62, 17, 63, 8, 57, 55]</td>\n",
              "      <td>0</td>\n",
              "    </tr>\n",
              "  </tbody>\n",
              "</table>\n",
              "</div>"
            ],
            "text/plain": [
              "   id  qid1  ...                                          question2 is_duplicate\n",
              "0   0     1  ...                 [1, 2, 3, 4, 5, 4, 6, 7, 8, 9, 10]            0\n",
              "1   1     3  ...  [1, 17, 18, 19, 3, 20, 21, 22, 3, 13, 14, 15, ...            0\n",
              "2   2     5  ...            [24, 25, 29, 27, 34, 35, 5, 36, 37, 38]            0\n",
              "3   3     7  ...              [46, 3, 47, 48, 49, 50, 49, 2, 51, 5]            0\n",
              "4   4     9  ...                        [52, 62, 17, 63, 8, 57, 55]            0\n",
              "\n",
              "[5 rows x 6 columns]"
            ]
          },
          "metadata": {
            "tags": []
          },
          "execution_count": 24
        }
      ]
    },
    {
      "cell_type": "markdown",
      "metadata": {
        "id": "hW1784pGqrxU",
        "colab_type": "text"
      },
      "source": [
        "### Construindo e testando modelo LSTM"
      ]
    },
    {
      "cell_type": "code",
      "metadata": {
        "id": "0FpC_nSq2Bcm",
        "colab_type": "code",
        "colab": {}
      },
      "source": [
        "module_url = \"https://tfhub.dev/google/universal-sentence-encoder-large/3\"\n",
        "embed = hub.Module(module_url, trainable=False)\n",
        "\n",
        "def USE(x):\n",
        "    return embed(tf.squeeze(tf.cast(x, tf.string)), \n",
        "                 signature=\"default\", as_dict=True)[\"default\"]\n",
        "\n",
        "def exponent_neg_manhattan_distance(left, right):\n",
        "    ''' Helper function for the similarity estimate of the LSTMs outputs'''\n",
        "    return K.exp(-K.sum(K.abs(left-right), axis=1, keepdims=True))\n",
        "\n",
        "def class_model(n_hidden, dropout):\n",
        "    model = Sequential()\n",
        "    \n",
        "    model.add(Dense(n_hidden, activation='relu'))\n",
        "    model.add(Dropout(dropout))\n",
        "\n",
        "    model(BatchNormalization())\n",
        "    model(Dense(int(n_hidden/2), activation='relu'))\n",
        "    model.add(Dropout(dropout))\n",
        "\n",
        "    model.add(BatchNormalization())\n",
        "    model(Dense(int(n_hidden/2), activation='relu'))\n",
        "    model(Dropout(dropout))\n",
        "\n",
        "    model(BatchNormalization()(merged))\n",
        "\n",
        "    return model\n",
        "\n",
        "\n",
        "def build_siamese_class(n_hidden=64, tune_embeds=False, dropout=[0.1, 0.0], recur_dropout=[0.0, 0.0]):\n",
        "    left_input = Input(shape=(max_seq_length,), dtype='int32')\n",
        "    right_input = Input(shape=(max_seq_length,), dtype='int32')\n",
        "\n",
        "    embedding_layer = Embedding(input_dim=len(embeddings), output_dim=embedding_dim, \n",
        "                                weights=[embeddings], input_length=max_seq_length, \n",
        "                                trainable=tune_embeds)\n",
        "    \n",
        "    bilstm_layer = Bidirectional(LSTM(n_hidden, dropout=dropout[0], recurrent_dropout=recur_dropout[0]))\n",
        "\n",
        "\n",
        "    left_encoded = bilstm_layer(embedding_layer(left_input))\n",
        "    right_encoded = bilstm_layer(embedding_layer(right_input))\n",
        "\n",
        "    merged = concatenate([left_encoded, right_encoded])\n",
        "    merged = Dense(int(n_hidden/2), activation='relu')(merged)\n",
        "    merged = Dropout(0.1)(merged)\n",
        "\n",
        "\n",
        "    merged = BatchNormalization()(merged)\n",
        "    pred = Dense(2, activation='sigmoid', name='Classificadora')(merged)\n",
        "\n",
        "    model = Model(inputs=[left_input, right_input], outputs=pred)\n",
        "    model.compile(loss='binary_crossentropy', optimizer='adam', metrics=['accuracy'])\n",
        "\n",
        "\n",
        "    model.summary()\n",
        "    plot_model(model, to_file='bilstm_class_model.png')\n",
        "\n",
        "    return model\n",
        "\n",
        "def build_siamese(n_hidden=64, tune_embeds=False, dropout=[0.1, 0.0], recur_dropout=[0.0, 0.0]):\n",
        "    left_input = Input(shape=(max_seq_length,), dtype='int32')\n",
        "    right_input = Input(shape=(max_seq_length,), dtype='int32')\n",
        "\n",
        "    embedding_layer = Embedding(input_dim=len(embeddings), output_dim=embedding_dim, \n",
        "                                weights=[embeddings], input_length=max_seq_length, \n",
        "                                trainable=tune_embeds)\n",
        "    \n",
        "    bilstm_layer = Bidirectional(LSTM(n_hidden, dropout=dropout[0], recurrent_dropout=recur_dropout[0]))\n",
        "\n",
        "\n",
        "    left_encoded = bilstm_layer(embedding_layer(left_input))\n",
        "    right_encoded = bilstm_layer(embedding_layer(right_input))\n",
        "\n",
        "    #dot_prod = dot([left_encoded, right_encoded], axes=1, normalize=True)\n",
        "    dot_prod = Lambda(function=lambda x: exponent_neg_manhattan_distance(x[0], x[1]),output_shape=lambda x: (x[0][0], 1), name='Manhattan Distance')([left_encoded, right_encoded])\n",
        "\n",
        "    model = Model([left_input, right_input], [dot_prod])\n",
        "\n",
        "    optimizer = Adadelta(clipnorm=1.0)    \n",
        "    model.compile(loss='mean_squared_error', optimizer='adam', metrics=['accuracy'])\n",
        "\n",
        "    model.summary()\n",
        "    plot_model(model, to_file='bilstm_model.png')\n",
        "\n",
        "    return model\n",
        "\n",
        "def build_use(n_hidden=128, dropout=0.1):\n",
        "    left_input = Input(shape=(1,), dtype=tf.string)\n",
        "    right_input = Input(shape=(1,), dtype=tf.string)\n",
        "\n",
        "    left_encoded = Lambda(USE, output_shape=(512,), name=\"USE_left\")(left_input)\n",
        "    right_encoded = Lambda(USE, output_shape=(512,), name=\"USE_right\")(right_input)\n",
        "\n",
        "    merged = concatenate([left_encoded, right_encoded])\n",
        "    merged = Dense(n_hidden, activation='relu')(merged)\n",
        "    merged = Dropout(dropout)(merged)\n",
        "\n",
        "    merged = BatchNormalization()(merged)\n",
        "    merged = Dense(int(n_hidden/2), activation='relu')(merged)\n",
        "    merged = Dropout(dropout)(merged)\n",
        "\n",
        "    merged = BatchNormalization()(merged)\n",
        "    merged = Dense(int(n_hidden/2), activation='relu')(merged)\n",
        "    merged = Dropout(dropout)(merged)\n",
        "\n",
        "    merged = BatchNormalization()(merged)\n",
        "    pred = Dense(2, activation='sigmoid')(merged)\n",
        "\n",
        "    model = Model(inputs=[left_input, right_input], outputs=pred)\n",
        "    model.compile(loss='binary_crossentropy', optimizer='adam', metrics=['accuracy'])\n",
        "\n",
        "    model.summary()\n",
        "    plot_model(model, to_file='use_model.png')\n",
        "\n",
        "    return model\n",
        "\n",
        "epochs=10\n",
        "batch_size=1024"
      ],
      "execution_count": null,
      "outputs": []
    },
    {
      "cell_type": "code",
      "metadata": {
        "id": "FsU21IxlkDGR",
        "colab_type": "code",
        "colab": {}
      },
      "source": [
        "def load_dataset(filename, keys):\n",
        "    data = pd.read_csv('/content/'+filename)\n",
        "\n",
        "    data.sample(frac=1).reset_index(drop=True)\n",
        "    null = data.isnull().sum()\n",
        "\n",
        "    data = data.dropna(subset=[keys[0], keys[1]])\n",
        "\n",
        "    questions_1 = data[keys[0]]\n",
        "    questions_2 = data[keys[1]]\n",
        "    is_dup = data[keys[2]]\n",
        "\n",
        "    train_1, test_1, train_2, test_2, y_train, y_test = train_test_split(questions_1, questions_2, \n",
        "                                                                         is_dup, test_size=0.1)\n",
        "    train_1_x = train_1.tolist()\n",
        "    train_1_x = np.array(train_1_x, dtype=object)[:, np.newaxis]\n",
        "    test_1_x = test_1.tolist()\n",
        "    test_1_x = np.array(test_1_x, dtype=object)[:, np.newaxis]\n",
        "\n",
        "    train_2_x = train_2.tolist()\n",
        "    train_2_x = np.array(train_2_x, dtype=object)[:, np.newaxis]\n",
        "    test_2_x = test_2.tolist()\n",
        "    test_2_x = np.array(test_2_x, dtype=object)[:, np.newaxis]\n",
        "\n",
        "    train_labels = np.asarray(pd.get_dummies(y_train), dtype=np.int8)\n",
        "    test_labels = np.asarray(pd.get_dummies(y_test), dtype=np.int8)\n",
        "\n",
        "    return train_1_x, test_1_x, train_2_x, test_2_x, train_labels, test_labels\n",
        "\n",
        "def plot_results(model_trained, title):\n",
        "    # Plot accuracy\n",
        "    plt.plot(model_trained.history['acc'])\n",
        "    plt.plot(model_trained.history['val_acc'])\n",
        "    plt.title('Model Accuracy')\n",
        "    plt.ylabel('Accuracy')\n",
        "    plt.xlabel('Epoch')\n",
        "    plt.legend(['Train', 'Validation'], loc='upper left')\n",
        "    plt.savefig(title+'_accur.png')\n",
        "    plt.show()\n",
        "\n",
        "    # Plot loss\n",
        "    plt.plot(model_trained.history['loss'])\n",
        "    plt.plot(model_trained.history['val_loss'])\n",
        "    plt.title('Model Loss')\n",
        "    plt.ylabel('Loss')\n",
        "    plt.xlabel('Epoch')\n",
        "    plt.legend(['Train', 'Validation'], loc='upper right')\n",
        "    plt.savefig(title+'_loss.png')\n",
        "    plt.show()"
      ],
      "execution_count": null,
      "outputs": []
    },
    {
      "cell_type": "code",
      "metadata": {
        "id": "zhQjAsvVgCM5",
        "colab_type": "code",
        "colab": {}
      },
      "source": [
        "def train_model(train_x, train_y, val_x, val_y, model_name=\"default\", n_hidden=64, epochs=10, batch_size=1024, tune_embeds=True, dropout=[0.1, 0.0], recur_dropout=[0.0, 0.0]):\n",
        "    with tf.Session() as sess:\n",
        "        # file_path = \"/content/\"+ model_name +\"-{epoch:02d}-{val_acc:.3f}.hdf5\"\n",
        "        file_path = model_name +\"-{epoch:02d}-{val_acc:.3f}.hdf5\"\n",
        "        checkpoint = ModelCheckpoint(file_path, monitor='val_loss', verbose=0, save_best_only=True, \n",
        "                                     save_weights_only=True, mode='auto', period=1)\n",
        "        callbacks_list = [checkpoint]\n",
        "\n",
        "        K.set_session(sess)\n",
        "        sess.run(tf.global_variables_initializer())\n",
        "        sess.run(tf.tables_initializer())\n",
        "\n",
        "        if model_name == 'bilstm_model' or model_name == 'default':\n",
        "            model = build_siamese(n_hidden=n_hidden, tune_embeds=tune_embeds, dropout=dropout, recur_dropout=recur_dropout)\n",
        "            model_trained = model.fit([train_x['left'], train_x['right']], train_y, \n",
        "                                      batch_size=batch_size, epochs=epochs, callbacks=callbacks_list,\n",
        "                                      validation_data=([val_x['left'], val_x['right']], val_y))\n",
        "            \n",
        "        if model_name == 'bilstm_class_model':\n",
        "            model = build_siamese_class(n_hidden=n_hidden, tune_embeds=tune_embeds, dropout=dropout, recur_dropout=recur_dropout)\n",
        "            train_labels = np.asarray(pd.get_dummies(train_y), dtype=np.int8)\n",
        "            validation_labels = np.asarray(pd.get_dummies(val_y), dtype=np.int8)\n",
        "            model_trained = model.fit([X_train['left'], X_train['right']], train_labels,\n",
        "                                      batch_size=batch_size, epochs=epochs, callbacks=callbacks_list,\n",
        "                                      validation_data=([X_validation['left'], X_validation['right']], validation_labels))\n",
        "        \n",
        "\n",
        "        if model_name == 'use_model':\n",
        "            model = build_use(n_hidden)\n",
        "            train_1_x, test_1_x, val_2_x, val_2_x, train_labels, test_labels = load_dataset('questions.csv', ['question1', 'question2', 'is_duplicate'])\n",
        "            model_trained = model.fit([train_1_x, train_2_x], train_labels,\n",
        "                                      validation_data=([test_1_x, test_2_x], test_labels),\n",
        "                                      epochs=epochs, batch_size=batch_size, callbacks=callbacks_list)\n",
        "            \n",
        "            model.predict\n",
        "    return model_trained"
      ],
      "execution_count": null,
      "outputs": []
    },
    {
      "cell_type": "code",
      "metadata": {
        "id": "AXxdx1zvhQxR",
        "colab_type": "code",
        "colab": {
          "base_uri": "https://localhost:8080/",
          "height": 1000
        },
        "outputId": "5d536b23-f47a-4e0f-e15a-abbd8960c072"
      },
      "source": [
        "# HIDDEN SIZE = 64 DROPOUT = [0.2, 0.1] recur DROPOUT = [0.2, 0.0]\n",
        "model_bilstm = train_model(X_train, Y_train, X_validation, Y_validation, 'bilstm_model', n_hidden=50, epochs=15, batch_size=512, tune_embeds=True, dropout=[0.2, 0.0], recur_dropout=[0.0, 0.0])\n",
        "model_bilstm_class = train_model(X_train, Y_train, X_validation, Y_validation, 'bilstm_class_model', n_hidden=50, epochs=10, batch_size=512, tune_embeds=True, dropout=[0.3, 0.0], recur_dropout=[0.0, 0.0])\n",
        "model_use = train_model(X_train, Y_train, X_validation, Y_validation, 'use_model', n_hidden=512, epochs=10, batch_size=512, tune_embeds=True)\n",
        "\n",
        "plot_results(model_bilstm, 'bilstm_model_50_embed')\n",
        "plot_results(model_bilstm_class, 'bilstm_class_model_50_embed')\n",
        "plot_results(model_use, 'use_model')"
      ],
      "execution_count": null,
      "outputs": [
        {
          "output_type": "stream",
          "text": [
            "WARNING:tensorflow:From /usr/local/lib/python3.6/dist-packages/keras/backend/tensorflow_backend.py:3733: calling dropout (from tensorflow.python.ops.nn_ops) with keep_prob is deprecated and will be removed in a future version.\n",
            "Instructions for updating:\n",
            "Please use `rate` instead of `keep_prob`. Rate should be set to `rate = 1 - keep_prob`.\n"
          ],
          "name": "stdout"
        },
        {
          "output_type": "stream",
          "text": [
            "WARNING:tensorflow:From /usr/local/lib/python3.6/dist-packages/keras/backend/tensorflow_backend.py:3733: calling dropout (from tensorflow.python.ops.nn_ops) with keep_prob is deprecated and will be removed in a future version.\n",
            "Instructions for updating:\n",
            "Please use `rate` instead of `keep_prob`. Rate should be set to `rate = 1 - keep_prob`.\n"
          ],
          "name": "stderr"
        },
        {
          "output_type": "stream",
          "text": [
            "Model: \"model_1\"\n",
            "__________________________________________________________________________________________________\n",
            "Layer (type)                    Output Shape         Param #     Connected to                     \n",
            "==================================================================================================\n",
            "input_1 (InputLayer)            (None, 50)           0                                            \n",
            "__________________________________________________________________________________________________\n",
            "input_2 (InputLayer)            (None, 50)           0                                            \n",
            "__________________________________________________________________________________________________\n",
            "embedding_1 (Embedding)         (None, 50, 300)      17611800    input_1[0][0]                    \n",
            "                                                                 input_2[0][0]                    \n",
            "__________________________________________________________________________________________________\n",
            "bidirectional_1 (Bidirectional) (None, 100)          140400      embedding_1[0][0]                \n",
            "                                                                 embedding_1[1][0]                \n",
            "__________________________________________________________________________________________________\n",
            "concatenate_1 (Concatenate)     (None, 200)          0           bidirectional_1[0][0]            \n",
            "                                                                 bidirectional_1[1][0]            \n",
            "__________________________________________________________________________________________________\n",
            "dense_1 (Dense)                 (None, 25)           5025        concatenate_1[0][0]              \n",
            "__________________________________________________________________________________________________\n",
            "dropout_1 (Dropout)             (None, 25)           0           dense_1[0][0]                    \n",
            "__________________________________________________________________________________________________\n",
            "batch_normalization_1 (BatchNor (None, 25)           100         dropout_1[0][0]                  \n",
            "__________________________________________________________________________________________________\n",
            "dense_2 (Dense)                 (None, 25)           650         batch_normalization_1[0][0]      \n",
            "__________________________________________________________________________________________________\n",
            "dropout_2 (Dropout)             (None, 25)           0           dense_2[0][0]                    \n",
            "__________________________________________________________________________________________________\n",
            "batch_normalization_2 (BatchNor (None, 25)           100         dropout_2[0][0]                  \n",
            "__________________________________________________________________________________________________\n",
            "dense_3 (Dense)                 (None, 2)            52          batch_normalization_2[0][0]      \n",
            "==================================================================================================\n",
            "Total params: 17,758,127\n",
            "Trainable params: 17,758,027\n",
            "Non-trainable params: 100\n",
            "__________________________________________________________________________________________________\n",
            "WARNING:tensorflow:From /usr/local/lib/python3.6/dist-packages/tensorflow/python/ops/math_ops.py:3066: to_int32 (from tensorflow.python.ops.math_ops) is deprecated and will be removed in a future version.\n",
            "Instructions for updating:\n",
            "Use tf.cast instead.\n"
          ],
          "name": "stdout"
        },
        {
          "output_type": "stream",
          "text": [
            "WARNING:tensorflow:From /usr/local/lib/python3.6/dist-packages/tensorflow/python/ops/math_ops.py:3066: to_int32 (from tensorflow.python.ops.math_ops) is deprecated and will be removed in a future version.\n",
            "Instructions for updating:\n",
            "Use tf.cast instead.\n"
          ],
          "name": "stderr"
        },
        {
          "output_type": "stream",
          "text": [
            "Train on 363914 samples, validate on 40434 samples\n",
            "Epoch 1/10\n",
            "363914/363914 [==============================] - 263s 724us/step - loss: 0.5418 - acc: 0.7230 - val_loss: 0.4632 - val_acc: 0.7756\n",
            "Epoch 2/10\n",
            "363914/363914 [==============================] - 256s 704us/step - loss: 0.4446 - acc: 0.7871 - val_loss: 0.4268 - val_acc: 0.7969\n",
            "Epoch 3/10\n",
            "363914/363914 [==============================] - 257s 707us/step - loss: 0.3883 - acc: 0.8191 - val_loss: 0.4116 - val_acc: 0.8060\n",
            "Epoch 4/10\n",
            "363914/363914 [==============================] - 258s 709us/step - loss: 0.3431 - acc: 0.8445 - val_loss: 0.4081 - val_acc: 0.8121\n",
            "Epoch 5/10\n",
            "363914/363914 [==============================] - 259s 711us/step - loss: 0.3057 - acc: 0.8649 - val_loss: 0.4163 - val_acc: 0.8173\n",
            "Epoch 6/10\n",
            "363914/363914 [==============================] - 259s 711us/step - loss: 0.2729 - acc: 0.8816 - val_loss: 0.4212 - val_acc: 0.8212\n",
            "Epoch 7/10\n",
            "363914/363914 [==============================] - 258s 710us/step - loss: 0.2470 - acc: 0.8943 - val_loss: 0.4375 - val_acc: 0.8249\n",
            "Epoch 8/10\n",
            "363914/363914 [==============================] - 258s 710us/step - loss: 0.2250 - acc: 0.9046 - val_loss: 0.4402 - val_acc: 0.8213\n",
            "Epoch 9/10\n",
            "363914/363914 [==============================] - 255s 701us/step - loss: 0.2054 - acc: 0.9135 - val_loss: 0.4577 - val_acc: 0.8279\n",
            "Epoch 10/10\n",
            "363914/363914 [==============================] - 255s 699us/step - loss: 0.1905 - acc: 0.9208 - val_loss: 0.4794 - val_acc: 0.8226\n"
          ],
          "name": "stdout"
        },
        {
          "output_type": "display_data",
          "data": {
            "image/png": "[encoded data removed]",
            "text/plain": [
              "<Figure size 432x288 with 1 Axes>"
            ]
          },
          "metadata": {
            "tags": []
          }
        },
        {
          "output_type": "display_data",
          "data": {
            "image/png": "[encoded data removed]",
            "text/plain": [
              "<Figure size 432x288 with 1 Axes>"
            ]
          },
          "metadata": {
            "tags": []
          }
        },
        {
          "output_type": "stream",
          "text": [
            "INFO:tensorflow:Saver not created because there are no variables in the graph to restore\n"
          ],
          "name": "stdout"
        },
        {
          "output_type": "stream",
          "text": [
            "INFO:tensorflow:Saver not created because there are no variables in the graph to restore\n"
          ],
          "name": "stderr"
        },
        {
          "output_type": "stream",
          "text": [
            "INFO:tensorflow:Saver not created because there are no variables in the graph to restore\n"
          ],
          "name": "stdout"
        },
        {
          "output_type": "stream",
          "text": [
            "INFO:tensorflow:Saver not created because there are no variables in the graph to restore\n"
          ],
          "name": "stderr"
        },
        {
          "output_type": "stream",
          "text": [
            "Model: \"model_2\"\n",
            "__________________________________________________________________________________________________\n",
            "Layer (type)                    Output Shape         Param #     Connected to                     \n",
            "==================================================================================================\n",
            "input_3 (InputLayer)            (None, 1)            0                                            \n",
            "__________________________________________________________________________________________________\n",
            "input_4 (InputLayer)            (None, 1)            0                                            \n",
            "__________________________________________________________________________________________________\n",
            "USE_left (Lambda)               (None, 512)          0           input_3[0][0]                    \n",
            "__________________________________________________________________________________________________\n",
            "USE_right (Lambda)              (None, 512)          0           input_4[0][0]                    \n",
            "__________________________________________________________________________________________________\n",
            "concatenate_2 (Concatenate)     (None, 1024)         0           USE_left[0][0]                   \n",
            "                                                                 USE_right[0][0]                  \n",
            "__________________________________________________________________________________________________\n",
            "dense_4 (Dense)                 (None, 512)          524800      concatenate_2[0][0]              \n",
            "__________________________________________________________________________________________________\n",
            "dropout_3 (Dropout)             (None, 512)          0           dense_4[0][0]                    \n",
            "__________________________________________________________________________________________________\n",
            "batch_normalization_3 (BatchNor (None, 512)          2048        dropout_3[0][0]                  \n",
            "__________________________________________________________________________________________________\n",
            "dense_5 (Dense)                 (None, 256)          131328      batch_normalization_3[0][0]      \n",
            "__________________________________________________________________________________________________\n",
            "dropout_4 (Dropout)             (None, 256)          0           dense_5[0][0]                    \n",
            "__________________________________________________________________________________________________\n",
            "batch_normalization_4 (BatchNor (None, 256)          1024        dropout_4[0][0]                  \n",
            "__________________________________________________________________________________________________\n",
            "dense_6 (Dense)                 (None, 256)          65792       batch_normalization_4[0][0]      \n",
            "__________________________________________________________________________________________________\n",
            "dropout_5 (Dropout)             (None, 256)          0           dense_6[0][0]                    \n",
            "__________________________________________________________________________________________________\n",
            "batch_normalization_5 (BatchNor (None, 256)          1024        dropout_5[0][0]                  \n",
            "__________________________________________________________________________________________________\n",
            "dense_7 (Dense)                 (None, 2)            514         batch_normalization_5[0][0]      \n",
            "==================================================================================================\n",
            "Total params: 726,530\n",
            "Trainable params: 724,482\n",
            "Non-trainable params: 2,048\n",
            "__________________________________________________________________________________________________\n",
            "Train on 363913 samples, validate on 40435 samples\n",
            "Epoch 1/10\n",
            "363913/363913 [==============================] - 231s 635us/step - loss: 0.4497 - acc: 0.7765 - val_loss: 0.3854 - val_acc: 0.8147\n",
            "Epoch 2/10\n",
            "363913/363913 [==============================] - 225s 618us/step - loss: 0.3732 - acc: 0.8221 - val_loss: 0.3630 - val_acc: 0.8287\n",
            "Epoch 3/10\n",
            "363913/363913 [==============================] - 224s 615us/step - loss: 0.3491 - acc: 0.8365 - val_loss: 0.3527 - val_acc: 0.8348\n",
            "Epoch 4/10\n",
            "363913/363913 [==============================] - 224s 616us/step - loss: 0.3332 - acc: 0.8456 - val_loss: 0.3437 - val_acc: 0.8388\n",
            "Epoch 5/10\n",
            "363913/363913 [==============================] - 224s 616us/step - loss: 0.3208 - acc: 0.8514 - val_loss: 0.3383 - val_acc: 0.8422\n",
            "Epoch 6/10\n",
            "363913/363913 [==============================] - 224s 615us/step - loss: 0.3096 - acc: 0.8587 - val_loss: 0.3315 - val_acc: 0.8488\n",
            "Epoch 7/10\n",
            "363913/363913 [==============================] - 224s 615us/step - loss: 0.2989 - acc: 0.8641 - val_loss: 0.3326 - val_acc: 0.8469\n",
            "Epoch 8/10\n",
            "363913/363913 [==============================] - 223s 613us/step - loss: 0.2895 - acc: 0.8689 - val_loss: 0.3308 - val_acc: 0.8509\n",
            "Epoch 9/10\n",
            "363913/363913 [==============================] - 224s 615us/step - loss: 0.2800 - acc: 0.8734 - val_loss: 0.3303 - val_acc: 0.8509\n",
            "Epoch 10/10\n",
            "363913/363913 [==============================] - 224s 614us/step - loss: 0.2711 - acc: 0.8787 - val_loss: 0.3289 - val_acc: 0.8519\n"
          ],
          "name": "stdout"
        },
        {
          "output_type": "display_data",
          "data": {
            "image/png": "[encoded data removed]",
            "text/plain": [
              "<Figure size 432x288 with 1 Axes>"
            ]
          },
          "metadata": {
            "tags": []
          }
        },
        {
          "output_type": "display_data",
          "data": {
            "image/png": "[encoded data removed]",
            "text/plain": [
              "<Figure size 432x288 with 1 Axes>"
            ]
          },
          "metadata": {
            "tags": []
          }
        }
      ]
    },
    {
      "cell_type": "markdown",
      "metadata": {
        "colab_type": "text",
        "id": "TgG78Id6uTJa"
      },
      "source": [
        "## Testando\n",
        "\n",
        "Iremos testar nossa rede e comparar com os resultados do Universal Sentence Encoder que será usado na base da nossa rede no lugar do nosso sentece embedding.\n",
        "\n",
        "Para refazer os testes basta treinar o modelo e substituir o nome da variavel model_name pelo nome do modelo salvo"
      ]
    },
    {
      "cell_type": "code",
      "metadata": {
        "id": "QkitvWfbziQe",
        "colab_type": "code",
        "colab": {}
      },
      "source": [
        "test_df['is_duplicate'] = test_df.index\n",
        "test_result = list()\n",
        "model_name=''\n",
        "print()\n",
        "with tf.Session() as session:\n",
        "    K.set_session(session)\n",
        "    session.run(tf.global_variables_initializer())\n",
        "    session.run(tf.tables_initializer())\n",
        "    model = build_use(512)\n",
        "    # model.load_weights('/content/' + model_name)\n",
        "    model.load_weights('./' + model_name)\n",
        "    i = 0\n",
        "    for q1, q2 in zip(X_test['left'], X_test['right']):\n",
        "        model.predict([q1, q2], verbose=0)\n",
        "        predict_logits = predicts.argmax(axis=1)\n",
        "        test_result.append((test_df.iloc[i]['id'], predict_logits))\n",
        "\n",
        "with open('./' + model_name + '.csv', mode='w') as csv_file:\n",
        "    field_names = ['id', 'is_duplicate']\n",
        "    writer = csv.DictWriter(csv_file, fieldnames=field_names)\n",
        "    writer.writerheader()\n",
        "    for i in range(len(test_results)):\n",
        "        writer.writerow({'id': test_result[0], 'is_duplicate': test_result[1]})"
      ],
      "execution_count": null,
      "outputs": []
    }
  ]
}